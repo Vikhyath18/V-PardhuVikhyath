{
  "nbformat": 4,
  "nbformat_minor": 0,
  "metadata": {
    "colab": {
      "provenance": [],
      "authorship_tag": "ABX9TyPmSYC63qBXnJ/ZU9AISDj4",
      "include_colab_link": true
    },
    "kernelspec": {
      "name": "python3",
      "display_name": "Python 3"
    },
    "language_info": {
      "name": "python"
    }
  },
  "cells": [
    {
      "cell_type": "markdown",
      "metadata": {
        "id": "view-in-github",
        "colab_type": "text"
      },
      "source": [
        "<a href=\"https://colab.research.google.com/github/Vikhyath18/V-PardhuVikhyath/blob/main/vtu27524_use_case.ipynb\" target=\"_parent\"><img src=\"https://colab.research.google.com/assets/colab-badge.svg\" alt=\"Open In Colab\"/></a>"
      ]
    },
    {
      "cell_type": "code",
      "execution_count": null,
      "metadata": {
        "id": "9bALyIPBUy5y"
      },
      "outputs": [],
      "source": [
        "#include <stdio.h>\n",
        "#include <stdlib.h>\n",
        "#include <string.h>\n",
        "#include <inttypes.h>\n",
        "\n",
        "typedef __int128 i128;\n",
        "typedef long long ll;\n",
        "ll absll(ll x){ return x<0? -x: x; }\n",
        "\n",
        "ll extgcd(ll a, ll b, ll *x, ll *y){\n",
        "    if(b==0){ *x = (a>=0?1:-1); *y = 0; return a>=0? a : -a; }\n",
        "    ll x1,y1; ll g = extgcd(b, a % b, &x1, &y1);\n",
        "    *x = y1; *y = x1 - (a/b) * y1; return g;\n",
        "}\n",
        "ll modnorm(ll a, ll m){ a%=m; if(a<0)a+=m; return a; }\n",
        "\n",
        "int crt_combine(ll a1,ll m1,ll a2,ll m2,ll *a_out,ll *m_out){\n",
        "    ll x,y; ll g=extgcd(m1,m2,&x,&y);\n",
        "    if((a2-a1)%g!=0) return -1;\n",
        "    ll m2_g=m2/g; i128 mul=(i128)(a2-a1)/g*(i128)x;\n",
        "    ll t=(long long)(mul%m2_g); t=modnorm(t,m2_g);\n",
        "    i128 res=(i128)a1+(i128)m1*(i128)t; i128 l=(i128)m1/g*(i128)m2;\n",
        "    ll sol=(long long)(res%l); if(sol<0)sol+=l; *a_out=sol; *m_out=l; return 0;\n",
        "}\n",
        "\n",
        "int main(){\n",
        "    int N,M; scanf(\"%d %d\",&N,&M);\n",
        "    int *L=malloc(sizeof(int)*M),*R=malloc(sizeof(int)*M);\n",
        "    for(int i=0;i<M;i++) scanf(\"%d %d\",&L[i],&R[i]);\n",
        "    int *cur=malloc(sizeof(int)*(N+1)),*tmp; for(int i=1;i<=N;i++) cur[i]=i;\n",
        "    for(int i=0;i<M;i++){\n",
        "        int li=L[i],ri=R[i]; int seglen=ri-li+1; tmp=malloc(sizeof(int)*(N+1));\n",
        "        int idx=1; for(int k=li;k<=ri;k++) tmp[idx++]=cur[k];\n",
        "        for(int k=1;k<li;k++) tmp[idx++]=cur[k];\n",
        "        for(int k=ri+1;k<=N;k++) tmp[idx++]=cur[k];\n",
        "        for(int k=1;k<=N;k++) cur[k]=tmp[k]; free(tmp);\n",
        "    }\n",
        "    int *p=malloc(sizeof(int)*(N+1));\n",
        "    for(int pos=1;pos<=N;pos++){ int label=cur[pos]; p[label]=pos; }\n",
        "    printf(\"Permutation built successfully.\\n\");\n",
        "    return 0;\n",
        "}\n"
      ]
    }
  ]
}